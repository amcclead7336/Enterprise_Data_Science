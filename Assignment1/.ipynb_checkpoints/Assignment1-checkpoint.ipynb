{
 "cells": [
  {
   "cell_type": "code",
   "execution_count": 2,
   "metadata": {
    "gather": {
     "logged": 1618081811651
    },
    "jupyter": {
     "outputs_hidden": false,
     "source_hidden": false
    },
    "nteract": {
     "transient": {
      "deleting": false
     }
    }
   },
   "outputs": [
    {
     "ename": "ModuleNotFoundError",
     "evalue": "No module named 'seaborn'",
     "output_type": "error",
     "traceback": [
      "\u001b[1;31m---------------------------------------------------------------------------\u001b[0m",
      "\u001b[1;31mModuleNotFoundError\u001b[0m                       Traceback (most recent call last)",
      "\u001b[1;32m<ipython-input-2-ff2bbe24d947>\u001b[0m in \u001b[0;36m<module>\u001b[1;34m\u001b[0m\n\u001b[0;32m      1\u001b[0m \u001b[1;32mimport\u001b[0m \u001b[0mpandas\u001b[0m \u001b[1;32mas\u001b[0m \u001b[0mpd\u001b[0m\u001b[1;33m\u001b[0m\u001b[1;33m\u001b[0m\u001b[0m\n\u001b[0;32m      2\u001b[0m \u001b[1;32mimport\u001b[0m \u001b[0mmatplotlib\u001b[0m\u001b[1;33m.\u001b[0m\u001b[0mpyplot\u001b[0m \u001b[1;32mas\u001b[0m \u001b[0mplt\u001b[0m\u001b[1;33m\u001b[0m\u001b[1;33m\u001b[0m\u001b[0m\n\u001b[1;32m----> 3\u001b[1;33m \u001b[1;32mimport\u001b[0m \u001b[0mseaborn\u001b[0m \u001b[1;32mas\u001b[0m \u001b[0msn\u001b[0m\u001b[1;33m\u001b[0m\u001b[1;33m\u001b[0m\u001b[0m\n\u001b[0m\u001b[0;32m      4\u001b[0m \u001b[1;32mimport\u001b[0m \u001b[0mwarnings\u001b[0m\u001b[1;33m\u001b[0m\u001b[1;33m\u001b[0m\u001b[0m\n\u001b[0;32m      5\u001b[0m \u001b[0mwarnings\u001b[0m\u001b[1;33m.\u001b[0m\u001b[0mfilterwarnings\u001b[0m\u001b[1;33m(\u001b[0m\u001b[1;34m\"ignore\"\u001b[0m\u001b[1;33m)\u001b[0m\u001b[1;33m\u001b[0m\u001b[1;33m\u001b[0m\u001b[0m\n",
      "\u001b[1;31mModuleNotFoundError\u001b[0m: No module named 'seaborn'"
     ]
    }
   ],
   "source": [
    "import pandas as pd\n",
    "import matplotlib.pyplot as plt\n",
    "import seaborn as sn\n",
    "import warnings\n",
    "warnings.filterwarnings(\"ignore\")\n",
    "\n",
    "import mlflow.sklearn\n",
    "from sklearn.model_selection import train_test_split\n",
    "from sklearn.linear_model import LogisticRegression"
   ]
  },
  {
   "cell_type": "code",
   "execution_count": null,
   "metadata": {},
   "outputs": [],
   "source": [
    "ds = pd.read_csv(\"WA_Fn-UseC_-Telco-Customer-Churn.csv\")"
   ]
  },
  {
   "cell_type": "code",
   "execution_count": 2,
   "metadata": {
    "gather": {
     "logged": 1618081559721
    }
   },
   "outputs": [
    {
     "name": "stdout",
     "output_type": "stream",
     "text": [
      "      customerID  gender  SeniorCitizen  Partner  Dependents  tenure  \\\n",
      "0     7590-VHVEG  Female              0     True       False       1   \n",
      "1     5575-GNVDE    Male              0    False       False      34   \n",
      "2     3668-QPYBK    Male              0    False       False       2   \n",
      "3     7795-CFOCW    Male              0    False       False      45   \n",
      "4     9237-HQITU  Female              0    False       False       2   \n",
      "...          ...     ...            ...      ...         ...     ...   \n",
      "7038  6840-RESVB    Male              0     True        True      24   \n",
      "7039  2234-XADUH  Female              0     True        True      72   \n",
      "7040  4801-JZAZL  Female              0     True        True      11   \n",
      "7041  8361-LTMKD    Male              1     True       False       4   \n",
      "7042  3186-AJIEK    Male              0    False       False      66   \n",
      "\n",
      "      PhoneService     MultipleLines InternetService OnlineSecurity  ...  \\\n",
      "0            False  No phone service             DSL             No  ...   \n",
      "1             True                No             DSL            Yes  ...   \n",
      "2             True                No             DSL            Yes  ...   \n",
      "3            False  No phone service             DSL            Yes  ...   \n",
      "4             True                No     Fiber optic             No  ...   \n",
      "...            ...               ...             ...            ...  ...   \n",
      "7038          True               Yes             DSL            Yes  ...   \n",
      "7039          True               Yes     Fiber optic             No  ...   \n",
      "7040         False  No phone service             DSL            Yes  ...   \n",
      "7041          True               Yes     Fiber optic             No  ...   \n",
      "7042          True                No     Fiber optic            Yes  ...   \n",
      "\n",
      "     DeviceProtection TechSupport StreamingTV StreamingMovies        Contract  \\\n",
      "0                  No          No          No              No  Month-to-month   \n",
      "1                 Yes          No          No              No        One year   \n",
      "2                  No          No          No              No  Month-to-month   \n",
      "3                 Yes         Yes          No              No        One year   \n",
      "4                  No          No          No              No  Month-to-month   \n",
      "...               ...         ...         ...             ...             ...   \n",
      "7038              Yes         Yes         Yes             Yes        One year   \n",
      "7039              Yes          No         Yes             Yes        One year   \n",
      "7040               No          No          No              No  Month-to-month   \n",
      "7041               No          No          No              No  Month-to-month   \n",
      "7042              Yes         Yes         Yes             Yes        Two year   \n",
      "\n",
      "     PaperlessBilling              PaymentMethod MonthlyCharges  TotalCharges  \\\n",
      "0                True           Electronic check          29.85         29.85   \n",
      "1               False               Mailed check          56.95       1889.50   \n",
      "2                True               Mailed check          53.85        108.15   \n",
      "3               False  Bank transfer (automatic)          42.30       1840.75   \n",
      "4                True           Electronic check          70.70        151.65   \n",
      "...               ...                        ...            ...           ...   \n",
      "7038             True               Mailed check          84.80       1990.50   \n",
      "7039             True    Credit card (automatic)         103.20       7362.90   \n",
      "7040             True           Electronic check          29.60        346.45   \n",
      "7041             True               Mailed check          74.40        306.60   \n",
      "7042             True  Bank transfer (automatic)         105.65       6844.50   \n",
      "\n",
      "      Churn  \n",
      "0     False  \n",
      "1     False  \n",
      "2      True  \n",
      "3     False  \n",
      "4      True  \n",
      "...     ...  \n",
      "7038  False  \n",
      "7039  False  \n",
      "7040  False  \n",
      "7041   True  \n",
      "7042  False  \n",
      "\n",
      "[7043 rows x 21 columns]\n"
     ]
    }
   ],
   "source": [
    "# azureml-core of version 1.0.72 or higher is required\n",
    "# azureml-dataprep[pandas] of version 1.1.34 or higher is required\n",
    "from azureml.core import Workspace, Dataset\n",
    "\n",
    "subscription_id = 'bdad271e-2ad8-46b6-8e5f-bc7a3fe9998b'\n",
    "resource_group = 'TestGroup'\n",
    "workspace_name = 'TestWorkSpace'\n",
    "\n",
    "workspace = Workspace(subscription_id, resource_group, workspace_name)\n",
    "\n",
    "dataset = Dataset.get_by_name(workspace, name='telco-data-churn')\n",
    "ds = dataset.to_pandas_dataframe()\n",
    "\n",
    "print(ds)"
   ]
  },
  {
   "cell_type": "code",
   "execution_count": 3,
   "metadata": {
    "collapsed": true,
    "gather": {
     "logged": 1618081560024
    },
    "jupyter": {
     "outputs_hidden": false,
     "source_hidden": false
    },
    "nteract": {
     "transient": {
      "deleting": false
     }
    }
   },
   "outputs": [
    {
     "name": "stdout",
     "output_type": "stream",
     "text": [
      "<class 'pandas.core.frame.DataFrame'>\n",
      "RangeIndex: 7043 entries, 0 to 7042\n",
      "Data columns (total 21 columns):\n",
      "customerID          7043 non-null object\n",
      "gender              7043 non-null object\n",
      "SeniorCitizen       7043 non-null int64\n",
      "Partner             7043 non-null bool\n",
      "Dependents          7043 non-null bool\n",
      "tenure              7043 non-null int64\n",
      "PhoneService        7043 non-null bool\n",
      "MultipleLines       7043 non-null object\n",
      "InternetService     7043 non-null object\n",
      "OnlineSecurity      7043 non-null object\n",
      "OnlineBackup        7043 non-null object\n",
      "DeviceProtection    7043 non-null object\n",
      "TechSupport         7043 non-null object\n",
      "StreamingTV         7043 non-null object\n",
      "StreamingMovies     7043 non-null object\n",
      "Contract            7043 non-null object\n",
      "PaperlessBilling    7043 non-null bool\n",
      "PaymentMethod       7043 non-null object\n",
      "MonthlyCharges      7043 non-null float64\n",
      "TotalCharges        7032 non-null float64\n",
      "Churn               7043 non-null bool\n",
      "dtypes: bool(5), float64(2), int64(2), object(12)\n",
      "memory usage: 914.9+ KB\n"
     ]
    }
   ],
   "source": [
    "ds.info()"
   ]
  },
  {
   "cell_type": "code",
   "execution_count": 4,
   "metadata": {
    "collapsed": true,
    "gather": {
     "logged": 1618081560286
    },
    "jupyter": {
     "outputs_hidden": false,
     "source_hidden": false
    },
    "nteract": {
     "transient": {
      "deleting": false
     }
    }
   },
   "outputs": [
    {
     "data": {
      "text/plain": [
       "TotalCharges        7032\n",
       "customerID          7043\n",
       "MonthlyCharges      7043\n",
       "PaymentMethod       7043\n",
       "PaperlessBilling    7043\n",
       "Contract            7043\n",
       "StreamingMovies     7043\n",
       "StreamingTV         7043\n",
       "TechSupport         7043\n",
       "DeviceProtection    7043\n",
       "OnlineBackup        7043\n",
       "InternetService     7043\n",
       "MultipleLines       7043\n",
       "PhoneService        7043\n",
       "tenure              7043\n",
       "Dependents          7043\n",
       "Partner             7043\n",
       "SeniorCitizen       7043\n",
       "gender              7043\n",
       "OnlineSecurity      7043\n",
       "Churn               7043\n",
       "dtype: int64"
      ]
     },
     "execution_count": 4,
     "metadata": {},
     "output_type": "execute_result"
    }
   ],
   "source": [
    "#No missing values\n",
    "ds.count().sort_values()"
   ]
  },
  {
   "cell_type": "code",
   "execution_count": 5,
   "metadata": {
    "collapsed": true,
    "gather": {
     "logged": 1618081561588
    },
    "jupyter": {
     "outputs_hidden": false,
     "source_hidden": false
    },
    "nteract": {
     "transient": {
      "deleting": false
     }
    }
   },
   "outputs": [
    {
     "name": "stdout",
     "output_type": "stream",
     "text": [
      "['Female' 'Male']\n"
     ]
    }
   ],
   "source": [
    "#Changed gender into int rep\n",
    "print(ds.gender.unique())\n",
    "ds.gender.replace([\"Female\", \"Male\"], [1, 0], inplace=True)"
   ]
  },
  {
   "cell_type": "code",
   "execution_count": 6,
   "metadata": {
    "collapsed": true,
    "gather": {
     "logged": 1618081565709
    },
    "jupyter": {
     "outputs_hidden": false,
     "source_hidden": false
    },
    "nteract": {
     "transient": {
      "deleting": false
     }
    }
   },
   "outputs": [],
   "source": [
    "#Changed InternetService into int rep\n",
    "ds.InternetService.unique()\n",
    "ds.InternetService.replace(['DSL', 'Fiber optic', 'No'], [1,2,0], inplace=True)"
   ]
  },
  {
   "cell_type": "code",
   "execution_count": 7,
   "metadata": {
    "collapsed": true,
    "gather": {
     "logged": 1618081569818
    },
    "jupyter": {
     "outputs_hidden": false,
     "source_hidden": false
    },
    "nteract": {
     "transient": {
      "deleting": false
     }
    }
   },
   "outputs": [
    {
     "name": "stdout",
     "output_type": "stream",
     "text": [
      "['No' 'Yes' 'No internet service']\n",
      "['No' 'Yes' 'No internet service']\n",
      "['No' 'Yes' 'No internet service']\n",
      "['No' 'Yes' 'No internet service']\n",
      "['No' 'Yes' 'No internet service']\n",
      "['Yes' 'No' 'No internet service']\n"
     ]
    }
   ],
   "source": [
    "binary_list = [ds.OnlineSecurity,\n",
    "ds.DeviceProtection,\n",
    "ds.TechSupport,\n",
    "ds.StreamingTV,\n",
    "ds.StreamingMovies,\n",
    "ds.OnlineBackup]\n",
    "\n",
    "for elm in binary_list:\n",
    "    print(elm.unique())\n",
    "    elm.replace(['No', 'Yes', 'No internet service'], [1,2,0], inplace=True)"
   ]
  },
  {
   "cell_type": "code",
   "execution_count": 8,
   "metadata": {
    "collapsed": true,
    "gather": {
     "logged": 1618081572939
    },
    "jupyter": {
     "outputs_hidden": false,
     "source_hidden": false
    },
    "nteract": {
     "transient": {
      "deleting": false
     }
    }
   },
   "outputs": [
    {
     "name": "stdout",
     "output_type": "stream",
     "text": [
      "['No phone service', 'No', 'Yes'] [0, 1, 2]\n",
      "['Month-to-month', 'One year', 'Two year'] [0, 1, 2]\n",
      "['Electronic check', 'Mailed check', 'Bank transfer (automatic)', 'Credit card (automatic)'] [0, 1, 2, 3]\n"
     ]
    }
   ],
   "source": [
    "odd_list = [ds.MultipleLines,\n",
    "ds.Contract,\n",
    "ds.PaymentMethod]\n",
    "\n",
    "for elm in odd_list:\n",
    "    elm_list = list(elm.unique())\n",
    "    index_list = list(range(len(elm_list)))\n",
    "    print(elm_list, index_list)\n",
    "    elm.replace(elm_list, index_list, inplace=True)\n"
   ]
  },
  {
   "cell_type": "markdown",
   "metadata": {
    "nteract": {
     "transient": {
      "deleting": false
     }
    }
   },
   "source": [
    "Gender\n",
    "* Male = 0\n",
    "* Female = 1\n",
    "\n",
    "InternetService\n",
    "* No = 0 \n",
    "* DSL = 1\n",
    "* Fiber Optic = 2\n",
    "\n",
    "OnlineSecurity, DeviceProtection, TechSupport, StreamingTV, StreamingMovies\n",
    "\n",
    "* No internet service = 0\n",
    "* No = 1\n",
    "* Yes = 2\n",
    "\n",
    "MultipleLines\n",
    "* No phone service = 0\n",
    "* No = 1\n",
    "* Yes = 2\n",
    "\n",
    "Contract\n",
    "* Month-to-month = 0\n",
    "* One year = 1\n",
    "* Two year = 2\n",
    "\n",
    "PaymentMethod\n",
    "* Electronic check = 0\n",
    "* Mailed check = 1\n",
    "* Bank transfer (automatic) = 2\n",
    "* Credit card (automatic) = 3"
   ]
  },
  {
   "cell_type": "code",
   "execution_count": 9,
   "metadata": {
    "collapsed": true,
    "gather": {
     "logged": 1618081577126
    },
    "jupyter": {
     "outputs_hidden": false,
     "source_hidden": false
    },
    "nteract": {
     "transient": {
      "deleting": false
     }
    }
   },
   "outputs": [
    {
     "name": "stdout",
     "output_type": "stream",
     "text": [
      "<class 'pandas.core.frame.DataFrame'>\n",
      "RangeIndex: 7043 entries, 0 to 7042\n",
      "Data columns (total 21 columns):\n",
      "customerID          7043 non-null object\n",
      "gender              7043 non-null int64\n",
      "SeniorCitizen       7043 non-null int64\n",
      "Partner             7043 non-null bool\n",
      "Dependents          7043 non-null bool\n",
      "tenure              7043 non-null int64\n",
      "PhoneService        7043 non-null bool\n",
      "MultipleLines       7043 non-null int64\n",
      "InternetService     7043 non-null int64\n",
      "OnlineSecurity      7043 non-null int64\n",
      "OnlineBackup        7043 non-null int64\n",
      "DeviceProtection    7043 non-null int64\n",
      "TechSupport         7043 non-null int64\n",
      "StreamingTV         7043 non-null int64\n",
      "StreamingMovies     7043 non-null int64\n",
      "Contract            7043 non-null int64\n",
      "PaperlessBilling    7043 non-null bool\n",
      "PaymentMethod       7043 non-null int64\n",
      "MonthlyCharges      7043 non-null float64\n",
      "TotalCharges        7032 non-null float64\n",
      "Churn               7043 non-null bool\n",
      "dtypes: bool(5), float64(2), int64(13), object(1)\n",
      "memory usage: 914.9+ KB\n"
     ]
    }
   ],
   "source": [
    "ds.info()"
   ]
  },
  {
   "cell_type": "code",
   "execution_count": 10,
   "metadata": {
    "collapsed": true,
    "gather": {
     "logged": 1618081580553
    },
    "jupyter": {
     "outputs_hidden": false,
     "source_hidden": false
    },
    "nteract": {
     "transient": {
      "deleting": false
     }
    }
   },
   "outputs": [
    {
     "data": {
      "image/png": "[encoded data removed]",
      "text/plain": [
       "<Figure size 720x2160 with 3 Axes>"
      ]
     },
     "metadata": {
      "needs_background": "light"
     },
     "output_type": "display_data"
    }
   ],
   "source": [
    "# now that the data has been Encoded I'm going to look for outliers\n",
    "\n",
    "fig, axes = plt.subplots(nrows=3,ncols=1)\n",
    "fig.set_size_inches(10, 30)\n",
    "check_cols = [\"tenure\", \"TotalCharges\", \"MonthlyCharges\"]\n",
    "\n",
    "for i, col in enumerate(check_cols):\n",
    "    sn.boxplot(x=ds[col], orient=\"v\", ax=axes[i])"
   ]
  },
  {
   "cell_type": "code",
   "execution_count": 11,
   "metadata": {
    "collapsed": true,
    "gather": {
     "logged": 1618081583426
    },
    "jupyter": {
     "outputs_hidden": false,
     "source_hidden": false
    },
    "nteract": {
     "transient": {
      "deleting": false
     }
    }
   },
   "outputs": [
    {
     "data": {
      "text/plain": [
       "<matplotlib.axes._subplots.AxesSubplot at 0x7facac565d30>"
      ]
     },
     "execution_count": 11,
     "metadata": {},
     "output_type": "execute_result"
    },
    {
     "data": {
      "image/png": "[encoded data removed]",
      "text/plain": [
       "<Figure size 432x288 with 1 Axes>"
      ]
     },
     "metadata": {
      "needs_background": "light"
     },
     "output_type": "display_data"
    }
   ],
   "source": [
    "upper_lim = ds['TotalCharges'].quantile(.95)\n",
    "lower_lim = ds['TotalCharges'].quantile(.05)\n",
    "\n",
    "ds = ds[(ds['TotalCharges'] < upper_lim) & (ds['TotalCharges'] > lower_lim)]\n",
    "\n",
    "sn.boxplot(x=ds[\"TotalCharges\"])"
   ]
  },
  {
   "cell_type": "code",
   "execution_count": 12,
   "metadata": {
    "collapsed": true,
    "gather": {
     "logged": 1618081587527
    },
    "jupyter": {
     "outputs_hidden": false,
     "source_hidden": false
    },
    "nteract": {
     "transient": {
      "deleting": false
     }
    }
   },
   "outputs": [],
   "source": [
    "from sklearn.preprocessing import StandardScaler\n",
    "\n",
    "ss = StandardScaler()\n",
    "ds['TotalCharges'] = ss.fit_transform(ds[['TotalCharges']])"
   ]
  },
  {
   "cell_type": "code",
   "execution_count": 13,
   "metadata": {
    "collapsed": true,
    "gather": {
     "logged": 1618081589544
    },
    "jupyter": {
     "outputs_hidden": false,
     "source_hidden": false
    },
    "nteract": {
     "transient": {
      "deleting": false
     }
    }
   },
   "outputs": [
    {
     "data": {
      "text/plain": [
       "<matplotlib.axes._subplots.AxesSubplot at 0x7facac4c22b0>"
      ]
     },
     "execution_count": 13,
     "metadata": {},
     "output_type": "execute_result"
    },
    {
     "data": {
      "image/png": "[encoded data removed]",
      "text/plain": [
       "<Figure size 432x288 with 2 Axes>"
      ]
     },
     "metadata": {
      "needs_background": "light"
     },
     "output_type": "display_data"
    }
   ],
   "source": [
    "sn.heatmap(ds.corr())"
   ]
  },
  {
   "cell_type": "code",
   "execution_count": 15,
   "metadata": {
    "collapsed": true,
    "gather": {
     "logged": 1618081722733
    },
    "jupyter": {
     "outputs_hidden": false,
     "source_hidden": false
    },
    "nteract": {
     "transient": {
      "deleting": false
     }
    }
   },
   "outputs": [],
   "source": [
    "# Making training sets. \n",
    "X = ds.drop([\"customerID\",\"Churn\"], axis=1)\n",
    "y = ds[\"Churn\"]\n",
    "\n",
    "x_train, x_test, y_train, y_test = train_test_split(X, y, test_size=0.30)"
   ]
  },
  {
   "cell_type": "code",
   "execution_count": 19,
   "metadata": {
    "collapsed": true,
    "jupyter": {
     "outputs_hidden": false,
     "source_hidden": false
    },
    "nteract": {
     "transient": {
      "deleting": false
     }
    }
   },
   "outputs": [],
   "source": [
    "mlflow.set_tracking_uri(\"http://40.113.238.180:5000\")\n",
    "mlflow.set_experiment(\"Assignment1\")"
   ]
  }
 ],
 "metadata": {
  "kernel_info": {
   "name": "python3-azureml"
  },
  "kernelspec": {
   "display_name": "Python 3",
   "language": "python",
   "name": "python3"
  },
  "language_info": {
   "codemirror_mode": {
    "name": "ipython",
    "version": 3
   },
   "file_extension": ".py",
   "mimetype": "text/x-python",
   "name": "python",
   "nbconvert_exporter": "python",
   "pygments_lexer": "ipython3",
   "version": "3.8.5"
  },
  "microsoft": {
   "host": {
    "AzureML": {
     "notebookHasBeenCompleted": true
    }
   }
  },
  "nteract": {
   "version": "nteract-front-end@1.0.0"
  }
 },
 "nbformat": 4,
 "nbformat_minor": 2
}
